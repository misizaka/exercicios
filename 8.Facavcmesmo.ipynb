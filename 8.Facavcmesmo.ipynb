{
 "cells": [
  {
   "cell_type": "code",
   "execution_count": null,
   "metadata": {},
   "outputs": [],
   "source": [
    "#Exercicios complementares -> Melissa 230125"
   ]
  },
  {
   "cell_type": "code",
   "execution_count": 2,
   "metadata": {},
   "outputs": [
    {
     "name": "stdout",
     "output_type": "stream",
     "text": [
      "Amplitude: 11\n"
     ]
    }
   ],
   "source": [
    "#1. Faça um programa que tenha uma função chamada amplitude. A função deve receber uma lista e imprimir a amplitude.\n",
    "#Crie também um código para testar sua função\n",
    "def amplitude(vet):\n",
    "    print(\"Amplitude:\", max(vet) - min(vet))\n",
    "\n",
    "vetor = [22,21,21,21,21,31,32,32,28,28]    \n",
    "amplitude(vetor)"
   ]
  },
  {
   "cell_type": "code",
   "execution_count": 3,
   "metadata": {},
   "outputs": [
    {
     "name": "stdout",
     "output_type": "stream",
     "text": [
      "E\n",
      "m\n",
      " \n",
      "S\n",
      "P\n",
      " \n",
      "f\n",
      "a\n",
      "z\n",
      " \n",
      "3\n",
      "1\n",
      "º\n",
      " \n",
      "a\n",
      "g\n",
      "o\n",
      "r\n",
      "a\n"
     ]
    }
   ],
   "source": [
    "#2. Faça uma função que receba uma string e imprima esta string na forma vertical\n",
    "def imprime(texto):\n",
    "    for n in range(0, len(texto)):\n",
    "        print(texto[n])\n",
    "\n",
    "imprime(\"Em SP faz 31º agora\")\n"
   ]
  },
  {
   "cell_type": "code",
   "execution_count": 9,
   "metadata": {},
   "outputs": [
    {
     "name": "stdout",
     "output_type": "stream",
     "text": [
      "Valor da carga é de R$ 80,00\n"
     ]
    }
   ],
   "source": [
    "#3. Crie um programa que leia o peso de uma carga em números inteiros. \n",
    "#Se o peso for até 10 kg, informe que o valor será de R$ 50,00. \n",
    "#Entre 11 e 20 kg, informe que o valor será de R$ 80. \n",
    "# Se for maior que  20 informe que o transporte não é aceito. Teste vários pesos.\n",
    "\n",
    "peso = 15\n",
    "if peso <= 10:\n",
    "\tprint(\"Valor da carga é de R$ 50,00\")\n",
    "elif peso >= 11 and peso <=20:\n",
    "\tprint(\"Valor da carga é de R$ 80,00\")\n",
    "else:\n",
    "\tprint(\"O transporte não é aceito\")\n"
   ]
  }
 ],
 "metadata": {
  "kernelspec": {
   "display_name": "Python 3 (ipykernel)",
   "language": "python",
   "name": "python3"
  },
  "language_info": {
   "codemirror_mode": {
    "name": "ipython",
    "version": 3
   },
   "file_extension": ".py",
   "mimetype": "text/x-python",
   "name": "python",
   "nbconvert_exporter": "python",
   "pygments_lexer": "ipython3",
   "version": "3.12.4"
  }
 },
 "nbformat": 4,
 "nbformat_minor": 4
}
