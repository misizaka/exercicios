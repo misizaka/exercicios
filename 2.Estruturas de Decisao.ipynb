{
 "cells": [
  {
   "cell_type": "code",
   "execution_count": null,
   "metadata": {},
   "outputs": [],
   "source": [
    "#Estruturas de decisão -> Melissa 230125"
   ]
  },
  {
   "cell_type": "code",
   "execution_count": 1,
   "metadata": {},
   "outputs": [
    {
     "name": "stdout",
     "output_type": "stream",
     "text": [
      "Aprovado\n",
      "Parabéns!\n"
     ]
    }
   ],
   "source": [
    "nota = 7\n",
    "if nota >= 7:\n",
    "\tprint(\"Aprovado\")\n",
    "\tprint(\"Parabéns!\")\n",
    "else:\n",
    "\tprint(\"Reprovado\")"
   ]
  },
  {
   "cell_type": "code",
   "execution_count": 2,
   "metadata": {},
   "outputs": [
    {
     "name": "stdout",
     "output_type": "stream",
     "text": [
      "Reprovado\n"
     ]
    }
   ],
   "source": [
    "#só mudar o valor da variável\n",
    "nota = 5\n",
    "if nota >= 7:\n",
    "\tprint(\"Aprovado\")\n",
    "else:\n",
    "\tprint(\"Reprovado\")"
   ]
  },
  {
   "cell_type": "code",
   "execution_count": 4,
   "metadata": {},
   "outputs": [
    {
     "name": "stdout",
     "output_type": "stream",
     "text": [
      "Exame\n"
     ]
    }
   ],
   "source": [
    "#Testar com 4,5 e 7\n",
    "nota = 5\n",
    "if nota <= 4:\n",
    "\tprint(\"Reprovado\")\n",
    "elif nota > 4 and nota <=6:\n",
    "\tprint(\"Exame\")\n",
    "else:\n",
    "\tprint(\"Aprovado\")\n"
   ]
  },
  {
   "cell_type": "code",
   "execution_count": null,
   "metadata": {},
   "outputs": [],
   "source": []
  }
 ],
 "metadata": {
  "kernelspec": {
   "display_name": "Python 3 (ipykernel)",
   "language": "python",
   "name": "python3"
  },
  "language_info": {
   "codemirror_mode": {
    "name": "ipython",
    "version": 3
   },
   "file_extension": ".py",
   "mimetype": "text/x-python",
   "name": "python",
   "nbconvert_exporter": "python",
   "pygments_lexer": "ipython3",
   "version": "3.12.4"
  }
 },
 "nbformat": 4,
 "nbformat_minor": 4
}
