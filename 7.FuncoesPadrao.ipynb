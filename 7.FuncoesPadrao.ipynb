{
 "cells": [
  {
   "cell_type": "code",
   "execution_count": null,
   "metadata": {},
   "outputs": [],
   "source": [
    "#Funções Padrão -> Melissa 230125"
   ]
  },
  {
   "cell_type": "code",
   "execution_count": 9,
   "metadata": {},
   "outputs": [
    {
     "name": "stdout",
     "output_type": "stream",
     "text": [
      "200\n",
      "Maior valor:  50\n",
      "Menor valor:  10\n",
      "Soma:  150\n",
      "Arredondamento:  2.346\n"
     ]
    }
   ],
   "source": [
    "#funções internas\n",
    "print(abs(-200))\n",
    "lst = [10,20,30,40,50]\n",
    "print(\"Maior valor: \", max(lst))\n",
    "print(\"Menor valor: \", min(lst))\n",
    "print(\"Soma: \", sum(lst))\n",
    "print(\"Arredondamento: \", round(2.3456709283949743871748765363912,3))"
   ]
  },
  {
   "cell_type": "code",
   "execution_count": 10,
   "metadata": {},
   "outputs": [
    {
     "name": "stdout",
     "output_type": "stream",
     "text": [
      "Média:  30\n",
      "Mediana:  30\n",
      "Moda:  10\n"
     ]
    }
   ],
   "source": [
    "#estatistica\n",
    "from statistics import *\n",
    "print(\"Média: \", mean(lst))\n",
    "print(\"Mediana: \", median(lst))\n",
    "print(\"Moda: \", mode(lst))"
   ]
  },
  {
   "cell_type": "code",
   "execution_count": 11,
   "metadata": {},
   "outputs": [
    {
     "name": "stdout",
     "output_type": "stream",
     "text": [
      "Desvio padrão:  15.811388300841896\n"
     ]
    }
   ],
   "source": [
    "#desvio padrão da amostra\n",
    "print(\"Desvio padrão: \", stdev(lst))"
   ]
  },
  {
   "cell_type": "code",
   "execution_count": 12,
   "metadata": {},
   "outputs": [
    {
     "name": "stdout",
     "output_type": "stream",
     "text": [
      "Variância:  250\n"
     ]
    }
   ],
   "source": [
    "#variancia da amostra\n",
    "print(\"Variância: \", variance(lst))"
   ]
  },
  {
   "cell_type": "code",
   "execution_count": 8,
   "metadata": {},
   "outputs": [
    {
     "name": "stdout",
     "output_type": "stream",
     "text": [
      "<class 'numpy.ndarray'>\n",
      "[[0.21350796 0.40500125 0.79738369 0.75888109 0.07169992 0.33849067\n",
      "  0.53165664 0.30063916]\n",
      " [0.44579865 0.62954824 0.62889831 0.58375709 0.80729217 0.18169781\n",
      "  0.34596171 0.5646407 ]\n",
      " [0.38033254 0.82528767 0.13998388 0.187339   0.67927601 0.70889623\n",
      "  0.05424647 0.02967458]\n",
      " [0.12079737 0.55252198 0.55667546 0.04985614 0.89099705 0.64381402\n",
      "  0.99362742 0.71304348]\n",
      " [0.25136106 0.14981319 0.31995343 0.81524776 0.67970465 0.34096384\n",
      "  0.55692053 0.58258741]\n",
      " [0.74860934 0.09229245 0.21342411 0.72079722 0.37979462 0.83010589\n",
      "  0.46640356 0.10750264]\n",
      " [0.54841001 0.24380609 0.17701593 0.72460197 0.27316796 0.98494496\n",
      "  0.09128126 0.86933908]\n",
      " [0.93812108 0.11310513 0.30068728 0.8188385  0.20512473 0.34755714\n",
      "  0.27910608 0.11977719]]\n"
     ]
    }
   ],
   "source": [
    "from numpy import *\n",
    "a = random.random((8,8))\n",
    "print(type(a))\n",
    "print(a)"
   ]
  },
  {
   "cell_type": "code",
   "execution_count": null,
   "metadata": {},
   "outputs": [],
   "source": []
  }
 ],
 "metadata": {
  "kernelspec": {
   "display_name": "Python 3 (ipykernel)",
   "language": "python",
   "name": "python3"
  },
  "language_info": {
   "codemirror_mode": {
    "name": "ipython",
    "version": 3
   },
   "file_extension": ".py",
   "mimetype": "text/x-python",
   "name": "python",
   "nbconvert_exporter": "python",
   "pygments_lexer": "ipython3",
   "version": "3.12.4"
  }
 },
 "nbformat": 4,
 "nbformat_minor": 4
}
