{
 "cells": [
  {
   "cell_type": "code",
   "execution_count": null,
   "metadata": {},
   "outputs": [],
   "source": [
    "#NUMPY -> MELISSA 230125"
   ]
  },
  {
   "cell_type": "code",
   "execution_count": 1,
   "metadata": {
    "id": "OI04MPtZjwn4"
   },
   "outputs": [],
   "source": [
    "import numpy as np"
   ]
  },
  {
   "cell_type": "code",
   "execution_count": 2,
   "metadata": {
    "colab": {
     "base_uri": "https://localhost:8080/"
    },
    "id": "ZhUgy5a5j7zR",
    "outputId": "bfecc80c-6149-4352-eb87-229a7d3b30d1"
   },
   "outputs": [
    {
     "name": "stdout",
     "output_type": "stream",
     "text": [
      "[12 34 26 18 10]\n",
      "<class 'numpy.ndarray'>\n"
     ]
    }
   ],
   "source": [
    "# cria uma matriz unidimensional\n",
    "mt = np.array([12,34,26,18,10])\n",
    "print(mt)\n",
    "print(type(mt))"
   ]
  },
  {
   "cell_type": "code",
   "execution_count": 3,
   "metadata": {
    "colab": {
     "base_uri": "https://localhost:8080/"
    },
    "id": "YL92103Mj9dS",
    "outputId": "141a6936-28ed-4570-9fe4-5c478693f7a0"
   },
   "outputs": [
    {
     "name": "stdout",
     "output_type": "stream",
     "text": [
      "[1. 2. 3.]\n",
      "<class 'numpy.ndarray'>\n",
      "[1 2 3]\n",
      "<class 'numpy.ndarray'>\n"
     ]
    }
   ],
   "source": [
    "#criar o array com um tipo específico\n",
    "# cria o array como float de 64 bits\n",
    "mtfloat = np.array([1, 2, 3], dtype = np.float64)\n",
    "print(mtfloat)\n",
    "print(type(mtfloat))\n",
    "mtint = np.array([1, 2, 3], dtype = np.int32)\n",
    "print(mtint)\n",
    "print(type(mtint))"
   ]
  },
  {
   "cell_type": "code",
   "execution_count": 4,
   "metadata": {
    "colab": {
     "base_uri": "https://localhost:8080/"
    },
    "id": "bZGaK3KGkQCK",
    "outputId": "5fd0e0c3-a72b-420b-840b-d14eb83065cc"
   },
   "outputs": [
    {
     "name": "stdout",
     "output_type": "stream",
     "text": [
      "[ 1.4       3.6      -5.1       9.42      4.999999]\n",
      "[ 1  3 -5  9  4]\n"
     ]
    }
   ],
   "source": [
    "#mudar o tipo do array\n",
    "# Podemos transformar tipos de dados de arrays\n",
    "mtnew = np.array([1.4, 3.6, -5.1, 9.42, 4.999999])\n",
    "print(mtnew)\n",
    "# quando transformamos de float para int os valores são truncados\n",
    "mtnewint = mtnew.astype(np.int32)\n",
    "print(mtnewint)"
   ]
  },
  {
   "cell_type": "code",
   "execution_count": 5,
   "metadata": {
    "colab": {
     "base_uri": "https://localhost:8080/"
    },
    "id": "GPkQHO_AkVf6",
    "outputId": "5b8234a0-b5d1-4111-8168-8ef63a3e99b6"
   },
   "outputs": [
    {
     "name": "stdout",
     "output_type": "stream",
     "text": [
      "[1 2 3 4]\n",
      "[1. 2. 3. 4.]\n"
     ]
    }
   ],
   "source": [
    "# podemos fazer o inverso também.\n",
    "mt5 = np.array([1, 2, 3, 4])\n",
    "print(mt5)\n",
    "mt6 = mt5.astype(float)\n",
    "print(mt6)"
   ]
  },
  {
   "cell_type": "code",
   "execution_count": 6,
   "metadata": {
    "colab": {
     "base_uri": "https://localhost:8080/"
    },
    "id": "MKnSocy2kZ5S",
    "outputId": "1b8e72e8-24d0-498a-b141-ea520ad6afff"
   },
   "outputs": [
    {
     "name": "stdout",
     "output_type": "stream",
     "text": [
      "[[ 7  2 23]\n",
      " [12 27  4]\n",
      " [ 5 34 23]]\n"
     ]
    }
   ],
   "source": [
    "# mais de uma dimensão\n",
    "# cria um matriz bidimensional\n",
    "mt7 = np.array([[7,2,23],[12,27,4],[5,34,23]])\n",
    "print(mt7)"
   ]
  },
  {
   "cell_type": "code",
   "execution_count": 7,
   "metadata": {
    "colab": {
     "base_uri": "https://localhost:8080/"
    },
    "id": "nX-pK2Bikjzi",
    "outputId": "c7041699-f3b3-464c-b02e-055c0ace266b"
   },
   "outputs": [
    {
     "name": "stdout",
     "output_type": "stream",
     "text": [
      "[[         0 1072693248]\n",
      " [         0 1073741824]\n",
      " [         0 1074266112]]\n",
      "-------\n",
      "[[0. 0. 0.]\n",
      " [0. 0. 0.]\n",
      " [0. 0. 0.]\n",
      " [0. 0. 0.]]\n",
      "-------\n",
      "[[1. 1. 1. 1. 1. 1. 1.]\n",
      " [1. 1. 1. 1. 1. 1. 1.]\n",
      " [1. 1. 1. 1. 1. 1. 1.]\n",
      " [1. 1. 1. 1. 1. 1. 1.]\n",
      " [1. 1. 1. 1. 1. 1. 1.]]\n",
      "-------\n",
      "[[1. 0. 0. 0. 0.]\n",
      " [0. 1. 0. 0. 0.]\n",
      " [0. 0. 1. 0. 0.]\n",
      " [0. 0. 0. 1. 0.]\n",
      " [0. 0. 0. 0. 1.]]\n"
     ]
    }
   ],
   "source": [
    "#criar arrays vazios tipificados\n",
    "#empty significa que não são inicializados, não que são vazios\n",
    "vazio = np.empty([3,2], dtype = int)\n",
    "print(vazio)\n",
    "print(\"-------\")\n",
    "# cria uma matriz 4x3 com valores zero\n",
    "zeros = np.zeros([4,3])\n",
    "print(zeros)\n",
    "print(\"-------\")\n",
    "#com valores igual a um\n",
    "um = np.ones([5,7])\n",
    "print(um)\n",
    "print(\"-------\")\n",
    "# cria matriz quadrada com diagonal principal com valores 1 e os outros valores zero\n",
    "diagonal = np.eye(5)\n",
    "print(diagonal)\n"
   ]
  },
  {
   "cell_type": "code",
   "execution_count": 8,
   "metadata": {
    "colab": {
     "base_uri": "https://localhost:8080/"
    },
    "id": "lTw3VGFIknOZ",
    "outputId": "7cf3c959-20d5-47dd-dfea-b991d6314d48"
   },
   "outputs": [
    {
     "name": "stdout",
     "output_type": "stream",
     "text": [
      "[0.33228486 0.99195785 0.76362516 0.32893203 0.65965305]\n",
      "-------\n",
      "[-0.20171599  0.26505677  1.24983223  0.60745425  1.70560673]\n",
      "-------\n",
      "[[8.97315536 2.40214325 1.79019865 2.77628044]\n",
      " [9.80302118 2.61274609 2.32467269 7.60295037]\n",
      " [6.31707167 7.41173735 1.9870568  1.13631366]]\n"
     ]
    }
   ],
   "source": [
    "#valores aleatórios entre zero e um\n",
    "rand = np.random.random((5))\n",
    "print(rand)\n",
    "print(\"-------\")\n",
    "#valores aleatórios distr. normal contendo negativos\n",
    "rand2= np.random.randn((5))\n",
    "print(rand2)\n",
    "print(\"-------\")\n",
    "#valores aleatórios 3 x 4\n",
    "rand3 = (10*np.random.random((3,4)))\n",
    "print(rand3)"
   ]
  },
  {
   "cell_type": "code",
   "execution_count": 9,
   "metadata": {
    "colab": {
     "base_uri": "https://localhost:8080/"
    },
    "id": "EVoyOEg1knRl",
    "outputId": "2b693841-1dde-4e53-f379-f812933bff4f"
   },
   "outputs": [
    {
     "name": "stdout",
     "output_type": "stream",
     "text": [
      "[0.51182162 0.9504637  0.14415961]\n",
      "[[8 9 2 3]\n",
      " [8 4 2 8]\n",
      " [2 4 6 5]]\n"
     ]
    }
   ],
   "source": [
    "#outra forma de gerar aleatórios\n",
    "#uso de semente\n",
    "gnr = np.random.default_rng(1)\n",
    "rand5 = gnr.random(3)\n",
    "print (rand5)\n",
    "\n",
    "#gerar inteiros\n",
    "rand6 = gnr.integers(10, size=(3, 4))\n",
    "print(rand6)"
   ]
  },
  {
   "cell_type": "code",
   "execution_count": 10,
   "metadata": {
    "colab": {
     "base_uri": "https://localhost:8080/"
    },
    "id": "AQc45hmnknUQ",
    "outputId": "4e640c49-d5f4-4a7d-b928-02601cb4dbda"
   },
   "outputs": [
    {
     "name": "stdout",
     "output_type": "stream",
     "text": [
      "[11 12 13 14 15 16 17 18 19 20]\n"
     ]
    }
   ],
   "source": [
    "#unique remove repetições\n",
    "j = np.array([11, 12, 13, 14, 15, 16, 17, 12, 13, 11, 18, 19, 20])\n",
    "j = np.unique(j)\n",
    "print(j)"
   ]
  },
  {
   "cell_type": "code",
   "execution_count": 11,
   "metadata": {
    "colab": {
     "base_uri": "https://localhost:8080/"
    },
    "id": "_P2gyfhIknW3",
    "outputId": "32a3e5f8-790f-4871-ccb2-afd1b8237853"
   },
   "outputs": [
    {
     "name": "stdout",
     "output_type": "stream",
     "text": [
      "[[17 22 43]\n",
      " [27 25 14]\n",
      " [15 24 32]]\n",
      "22\n",
      "(3, 3)\n"
     ]
    }
   ],
   "source": [
    "#funções específicas\n",
    "# cria a matriz bidimensional k\n",
    "k = np.array([[17,22,43],[27,25,14],[15,24,32]])\n",
    "# Mostra a matriz k\n",
    "print(k)\n",
    "# Mostra um elemento específico da matriz k\n",
    "print(k[0][1])\n",
    "# Mostra o tamanho das dimensões da matriz k\n",
    "print(k.shape)"
   ]
  },
  {
   "cell_type": "code",
   "execution_count": 12,
   "metadata": {
    "colab": {
     "base_uri": "https://localhost:8080/"
    },
    "id": "j8aXkWLTknZs",
    "outputId": "cf98845c-c800-4408-f2c3-06994cd22731"
   },
   "outputs": [
    {
     "name": "stdout",
     "output_type": "stream",
     "text": [
      "43\n",
      "14\n",
      "219\n",
      "24.333333333333332\n",
      "8.615231988880057\n"
     ]
    }
   ],
   "source": [
    "#Funções Matemáticas\n",
    "# Mostra o maior valor da matriz k\n",
    "print(k.max())\n",
    "# Mostra o menor valor da matriz k\n",
    "print(k.min())\n",
    "# Mostra a soma dos valores da matriz k\n",
    "print((k.sum()))\n",
    "# Mostra o valor da média dos valores da matriz k\n",
    "print(k.mean())\n",
    "# Mostra o valor do desvio padrão (standard deviation) dos valores da matiz k\n",
    "print(k.std())"
   ]
  },
  {
   "cell_type": "code",
   "execution_count": 13,
   "metadata": {
    "colab": {
     "base_uri": "https://localhost:8080/"
    },
    "id": "VABu58pJkncJ",
    "outputId": "d4b51209-0531-4001-9fa5-4892946695d2"
   },
   "outputs": [
    {
     "name": "stdout",
     "output_type": "stream",
     "text": [
      "[1. 2. 3. 4. 5. 6.]\n",
      "[2.71828183e+00 5.45981500e+01 8.10308393e+03 8.88611052e+06\n",
      " 7.20048993e+10 4.31123155e+15]\n"
     ]
    }
   ],
   "source": [
    "#funções universais, aplicadas a todos os elementos\n",
    "# Mostra o valor da raiz quadrada de todos elementos\n",
    "k1 = np.array([1, 4, 9, 16, 25, 36])\n",
    "print(np.sqrt(k1))\n",
    "# Mostra o valor do exponencial de todos elementos\n",
    "print(np.exp(k1))"
   ]
  },
  {
   "cell_type": "code",
   "execution_count": 14,
   "metadata": {
    "colab": {
     "base_uri": "https://localhost:8080/"
    },
    "id": "1tG2157eknfR",
    "outputId": "cb644ca0-5bf1-413e-d43b-84b36ab5a9b3"
   },
   "outputs": [
    {
     "name": "stdout",
     "output_type": "stream",
     "text": [
      "2\n",
      "-------\n",
      "[1 2]\n",
      "-------\n",
      "[2 3 4 5 6]\n",
      "-------\n",
      "[4 5 6]\n"
     ]
    }
   ],
   "source": [
    "#extração de elementos\n",
    "m = np.array([1, 2, 3, 4, 5, 6])\n",
    "# Mostra o elemento da posição 2\n",
    "print(m[1])\n",
    "print(\"-------\")\n",
    "# Mostra o array criado a partir da posição 0, dois elementos\n",
    "print(m[0:2])\n",
    "print(\"-------\")\n",
    "# Mostra o array criado a partir da 2a posição\n",
    "# até todo o restante do array\n",
    "print(m[1:])\n",
    "print(\"-------\")\n",
    "# Mostra o array criado a partir da antepenúltima\n",
    "#posição até o final\n",
    "print(m[-3:])"
   ]
  },
  {
   "cell_type": "code",
   "execution_count": 15,
   "metadata": {
    "colab": {
     "base_uri": "https://localhost:8080/"
    },
    "id": "ADaB3vqBlOIZ",
    "outputId": "2fb2b003-ad6d-4d38-c314-eb12b2b34caf"
   },
   "outputs": [
    {
     "name": "stdout",
     "output_type": "stream",
     "text": [
      "[[4 5]\n",
      " [6 1]\n",
      " [7 4]]\n",
      "-------\n",
      "[4 5]\n",
      "-------\n",
      "[6 1]\n",
      "-------\n",
      "[7 4]\n",
      "-------\n",
      "[4 6 7]\n",
      "-------\n",
      "[5 1 4]\n"
     ]
    }
   ],
   "source": [
    "#extração de linhas e colunas\n",
    "l = np.array([[4, 5], [6, 1], [7, 4]])\n",
    "print(l)\n",
    "print(\"-------\")\n",
    "#primeira linha, todas as colunas\n",
    "l_linha_1 = l[0, :]\n",
    "print(l_linha_1)\n",
    "print(\"-------\")\n",
    "#segunda linha\n",
    "l_linha_2 = l[1, :]\n",
    "print(l_linha_2)\n",
    "print(\"-------\")\n",
    "#terceira linha\n",
    "l_linha_3 = l[2, :]\n",
    "print(l_linha_3)\n",
    "print(\"-------\")\n",
    "#todas as linhas, primeira coluna\n",
    "l_coluna_1 = l[:, 0]\n",
    "print(l_coluna_1)\n",
    "print(\"-------\")\n",
    "#todas as linhas, segunda coluna\n",
    "l_coluna_2 = l[:, 1]\n",
    "print(l_coluna_2)"
   ]
  },
  {
   "cell_type": "code",
   "execution_count": 16,
   "metadata": {
    "colab": {
     "base_uri": "https://localhost:8080/"
    },
    "id": "cO6JDvu7lOLp",
    "outputId": "876aa155-8ae6-42fd-c5ef-79d00a5268e7"
   },
   "outputs": [
    {
     "name": "stdout",
     "output_type": "stream",
     "text": [
      "[[2 3]\n",
      " [4 5]]\n",
      "-------\n",
      "[[1 2]\n",
      " [3 4]]\n",
      "-------\n",
      "[[3 3]\n",
      " [5 5]\n",
      " [7 7]]\n"
     ]
    }
   ],
   "source": [
    "#adição e multiplicação de matrizes\n",
    "n = np.array([[1, 2], [3, 4]])\n",
    "o = np.array([[1, 1], [1, 1]])\n",
    "res1 = n+o\n",
    "print(res1)\n",
    "print(\"-------\")\n",
    "res2 = n*o\n",
    "print(res2)\n",
    "print(\"-------\")\n",
    "p = np.array([[1, 2], [3, 4], [5, 6]])\n",
    "q = np.array([[2, 1]])\n",
    "print(p+q)"
   ]
  },
  {
   "cell_type": "code",
   "execution_count": 17,
   "metadata": {
    "colab": {
     "base_uri": "https://localhost:8080/"
    },
    "id": "urJQ-BtKlOOT",
    "outputId": "38e7443a-9b44-4ba7-b0a2-a84101aa50e3"
   },
   "outputs": [
    {
     "name": "stdout",
     "output_type": "stream",
     "text": [
      "[[ 0  1  2  3  4]\n",
      " [ 5  6  7  8  9]\n",
      " [10 11 12 13 14]]\n",
      "-------\n",
      "[[ 0  5 10]\n",
      " [ 1  6 11]\n",
      " [ 2  7 12]\n",
      " [ 3  8 13]\n",
      " [ 4  9 14]]\n"
     ]
    }
   ],
   "source": [
    "# transposição, rearranja um conjunto de 15 elementos de 0 a 14 \n",
    "# em 3 linhas e 5 colunas.\n",
    "f = np.arange(15).reshape((3, 5))\n",
    "# mostra a matrizes transposta entre linha e coluna\n",
    "print(f)\n",
    "print(\"-------\")\n",
    "s = f.T\n",
    "print(s)"
   ]
  },
  {
   "cell_type": "code",
   "execution_count": 18,
   "metadata": {
    "colab": {
     "base_uri": "https://localhost:8080/"
    },
    "id": "6v0SlBz4lORB",
    "outputId": "00eda794-b183-40cd-e875-9c925cc734d4"
   },
   "outputs": [
    {
     "name": "stdout",
     "output_type": "stream",
     "text": [
      "[[ 0  1  2  3  4]\n",
      " [ 5  6  7  8  9]\n",
      " [10 11 12 13 14]]\n",
      "-------\n",
      "[[ 0  5 10]\n",
      " [ 1  6 11]\n",
      " [ 2  7 12]\n",
      " [ 3  8 13]\n",
      " [ 4  9 14]]\n"
     ]
    }
   ],
   "source": [
    "#outra forma de fazer, mesmo resultado\n",
    "r = np.arange(15).reshape((3, 5))\n",
    "print(r)\n",
    "print(\"-------\")\n",
    "# rearranja um conjunto de 15 elementos \n",
    "# mostra a matrizes transposta entre linha e coluna\n",
    "s = r.transpose((1,0))\n",
    "print(s)\n"
   ]
  },
  {
   "cell_type": "code",
   "execution_count": 19,
   "metadata": {
    "colab": {
     "base_uri": "https://localhost:8080/"
    },
    "id": "6RcwvarDlv8i",
    "outputId": "c2738f2f-7c74-4d30-c88d-55bebcde48ec"
   },
   "outputs": [
    {
     "name": "stdout",
     "output_type": "stream",
     "text": [
      "[[-0.12908452 -0.96787803  1.0584958  -0.23000847]\n",
      " [ 0.88310978 -0.76049066  0.04352374  0.05124349]\n",
      " [ 0.17661989  1.40267675 -0.05977854 -0.20883637]\n",
      " [-0.16490655 -1.17768195 -0.73512106 -0.39748836]]\n",
      "[[False False  True False]\n",
      " [ True False  True  True]\n",
      " [ True  True False False]\n",
      " [False False False False]]\n",
      "[[-1 -1  1 -1]\n",
      " [ 1 -1  1  1]\n",
      " [ 1  1 -1 -1]\n",
      " [-1 -1 -1 -1]]\n"
     ]
    }
   ],
   "source": [
    "#expressões lógicas\n",
    "#usando where\n",
    "# criando matriz com valores aleatórios positivos e negativos\n",
    "v = np.random.randn(4, 4)\n",
    "print(v)\n",
    "# criando matriz com valores booleanos baseado no array v\n",
    "x = (v > 0)\n",
    "print(x)\n",
    "# criando matriz com valores -1 e 1 baseado nos valores do array x\n",
    "z = np.where(x > 0, 1, -1)\n",
    "print(z)\n"
   ]
  }
 ],
 "metadata": {
  "colab": {
   "name": "numpy.ipynb",
   "provenance": []
  },
  "kernelspec": {
   "display_name": "Python 3 (ipykernel)",
   "language": "python",
   "name": "python3"
  },
  "language_info": {
   "codemirror_mode": {
    "name": "ipython",
    "version": 3
   },
   "file_extension": ".py",
   "mimetype": "text/x-python",
   "name": "python",
   "nbconvert_exporter": "python",
   "pygments_lexer": "ipython3",
   "version": "3.12.4"
  }
 },
 "nbformat": 4,
 "nbformat_minor": 4
}
